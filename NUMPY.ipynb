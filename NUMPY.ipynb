{
  "nbformat": 4,
  "nbformat_minor": 0,
  "metadata": {
    "colab": {
      "name": "NUMPY.ipynb",
      "provenance": [],
      "authorship_tag": "ABX9TyPfNgkWCdchK+Bxv7h6jeLc",
      "include_colab_link": true
    },
    "kernelspec": {
      "name": "python3",
      "display_name": "Python 3"
    },
    "language_info": {
      "name": "python"
    }
  },
  "cells": [
    {
      "cell_type": "markdown",
      "metadata": {
        "id": "view-in-github",
        "colab_type": "text"
      },
      "source": [
        "<a href=\"https://colab.research.google.com/github/jmhuertasg/ML_21_Days/blob/main/NUMPY.ipynb\" target=\"_parent\"><img src=\"https://colab.research.google.com/assets/colab-badge.svg\" alt=\"Open In Colab\"/></a>"
      ]
    },
    {
      "cell_type": "markdown",
      "metadata": {
        "id": "E2ZypV1iDdi1"
      },
      "source": [
        "Manipulacion de Numpy"
      ]
    },
    {
      "cell_type": "markdown",
      "metadata": {
        "id": "lhneDV-EFQdc"
      },
      "source": [
        "Instalacion NUMPY"
      ]
    },
    {
      "cell_type": "code",
      "metadata": {
        "colab": {
          "base_uri": "https://localhost:8080/"
        },
        "id": "fAwdOczAFTcj",
        "outputId": "0a48eff6-19f2-4207-efbb-41cc65592261"
      },
      "source": [
        "pip install numpy"
      ],
      "execution_count": null,
      "outputs": [
        {
          "output_type": "stream",
          "text": [
            "Requirement already satisfied: numpy in /usr/local/lib/python3.7/dist-packages (1.19.5)\n"
          ],
          "name": "stdout"
        }
      ]
    },
    {
      "cell_type": "markdown",
      "metadata": {
        "id": "VQ-7ShGviNjQ"
      },
      "source": [
        "Import Numpy in program\n"
      ]
    },
    {
      "cell_type": "code",
      "metadata": {
        "id": "E7nm614ADghs"
      },
      "source": [
        "import numpy as pn"
      ],
      "execution_count": null,
      "outputs": []
    },
    {
      "cell_type": "markdown",
      "metadata": {
        "id": "QcoCYNjVia6S"
      },
      "source": [
        "Create Vector"
      ]
    },
    {
      "cell_type": "markdown",
      "metadata": {
        "id": "iyFeGXgQi1T8"
      },
      "source": [
        ""
      ]
    },
    {
      "cell_type": "code",
      "metadata": {
        "id": "9IeHLN8Hidmp",
        "colab": {
          "base_uri": "https://localhost:8080/"
        },
        "outputId": "4cca6941-e7ed-4af6-db4d-ef42f39b734c"
      },
      "source": [
        "#Load Library\n",
        "import numpy as np\n",
        "\n",
        "#Create a row vector\n",
        "row_vector = np.array([10,15,20])\n",
        "\n",
        "#Create a column vector\n",
        "column_vector =np.array([[10],[20],[30]])\n",
        "print(column_vector)"
      ],
      "execution_count": null,
      "outputs": [
        {
          "output_type": "stream",
          "text": [
            "[[10]\n",
            " [20]\n",
            " [30]]\n"
          ],
          "name": "stdout"
        }
      ]
    },
    {
      "cell_type": "markdown",
      "metadata": {
        "id": "jXlHizeijHTY"
      },
      "source": [
        "Create Matrix"
      ]
    },
    {
      "cell_type": "code",
      "metadata": {
        "id": "cevmGvN6jMHQ",
        "colab": {
          "base_uri": "https://localhost:8080/"
        },
        "outputId": "575cb1c8-6e4e-47f2-bc8b-240de7765776"
      },
      "source": [
        "#Create a Matrix\n",
        "matrix =np.array([[10,20,30],[40,50,60]])\n",
        "print(matrix)"
      ],
      "execution_count": null,
      "outputs": [
        {
          "output_type": "stream",
          "text": [
            "[[10 20 30]\n",
            " [40 50 60]]\n"
          ],
          "name": "stdout"
        }
      ]
    },
    {
      "cell_type": "markdown",
      "metadata": {
        "id": "szV_ebn8jjt1"
      },
      "source": [
        "Accessing Elements"
      ]
    },
    {
      "cell_type": "code",
      "metadata": {
        "id": "hbyIcs-gjsMn"
      },
      "source": [
        "#Create a vector as a Row\n",
        "row_vector = np.array([10,20,30,40,50,60])\n",
        "print(\"row_vector\",row_vector)\n",
        "\n",
        "#Create a Matrix\n",
        "matrix = np.array([[10,20,30],[40,50,60],[70,80,90]])\n",
        "\n",
        "#Select 2nd element of Vactor\n",
        "print(\"Matrix:\",row_vector[1])\n",
        "\n",
        "#Select "
      ],
      "execution_count": null,
      "outputs": []
    },
    {
      "cell_type": "markdown",
      "metadata": {
        "id": "nDwntyDdoWBN"
      },
      "source": [
        "Matrix"
      ]
    },
    {
      "cell_type": "code",
      "metadata": {
        "id": "iFsJ98CTjFXz"
      },
      "source": [
        "#Create a Matrix\n",
        "matrix = np.array([[10,20,30],[40,50,60],[70,80,90]])\n",
        "\n",
        "#View the number of rows and Columns\n",
        "print(\"Rows and Column\",matrix.shape)\n",
        "\n",
        "#View the number of elements (rows*columns)\n",
        "print(\"Total Elements\",matrix.size)\n",
        "\n",
        "#View the number of Dimensions(2 in the case)\n",
        "print(\"Dimension\",matrix.ndim)"
      ],
      "execution_count": null,
      "outputs": []
    },
    {
      "cell_type": "code",
      "metadata": {
        "id": "joq9I0twi0dN"
      },
      "source": [
        "p"
      ],
      "execution_count": null,
      "outputs": []
    }
  ]
}