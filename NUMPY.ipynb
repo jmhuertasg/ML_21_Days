{
  "nbformat": 4,
  "nbformat_minor": 0,
  "metadata": {
    "colab": {
      "name": "NUMPY.ipynb",
      "provenance": [],
      "authorship_tag": "ABX9TyNutU3RCIUSkrDTeEIdJzKE",
      "include_colab_link": true
    },
    "kernelspec": {
      "name": "python3",
      "display_name": "Python 3"
    },
    "language_info": {
      "name": "python"
    }
  },
  "cells": [
    {
      "cell_type": "markdown",
      "metadata": {
        "id": "view-in-github",
        "colab_type": "text"
      },
      "source": [
        "<a href=\"https://colab.research.google.com/github/jmhuertasg/ML_21_Days/blob/main/NUMPY.ipynb\" target=\"_parent\"><img src=\"https://colab.research.google.com/assets/colab-badge.svg\" alt=\"Open In Colab\"/></a>"
      ]
    },
    {
      "cell_type": "markdown",
      "metadata": {
        "id": "E2ZypV1iDdi1"
      },
      "source": [
        "Manipulacion de Numpy"
      ]
    },
    {
      "cell_type": "markdown",
      "metadata": {
        "id": "lhneDV-EFQdc"
      },
      "source": [
        "Instalacion NUMPY"
      ]
    },
    {
      "cell_type": "code",
      "metadata": {
        "colab": {
          "base_uri": "https://localhost:8080/"
        },
        "id": "fAwdOczAFTcj",
        "outputId": "fc3f0360-5736-4792-c1e2-3a6039ba1a26"
      },
      "source": [
        "pip install numpy"
      ],
      "execution_count": 2,
      "outputs": [
        {
          "output_type": "stream",
          "text": [
            "Requirement already satisfied: numpy in /usr/local/lib/python3.7/dist-packages (1.19.5)\n"
          ],
          "name": "stdout"
        }
      ]
    },
    {
      "cell_type": "markdown",
      "metadata": {
        "id": "VQ-7ShGviNjQ"
      },
      "source": [
        "Import Numpy in program\n"
      ]
    },
    {
      "cell_type": "code",
      "metadata": {
        "id": "E7nm614ADghs"
      },
      "source": [
        "import numpy as pn"
      ],
      "execution_count": 3,
      "outputs": []
    },
    {
      "cell_type": "markdown",
      "metadata": {
        "id": "QcoCYNjVia6S"
      },
      "source": [
        "Create Vector"
      ]
    },
    {
      "cell_type": "markdown",
      "metadata": {
        "id": "iyFeGXgQi1T8"
      },
      "source": [
        ""
      ]
    },
    {
      "cell_type": "code",
      "metadata": {
        "id": "9IeHLN8Hidmp",
        "colab": {
          "base_uri": "https://localhost:8080/"
        },
        "outputId": "ae2b4947-892a-402f-a81a-fa4a9a8ac4b9"
      },
      "source": [
        "#Load Library\n",
        "import numpy as np\n",
        "\n",
        "#Create a row vector\n",
        "row_vector = np.array([10,15,20])\n",
        "\n",
        "#Create a column vector\n",
        "column_vector =np.array([[10],[20],[30]])\n",
        "print(column_vector)"
      ],
      "execution_count": 4,
      "outputs": [
        {
          "output_type": "stream",
          "text": [
            "[[10]\n",
            " [20]\n",
            " [30]]\n"
          ],
          "name": "stdout"
        }
      ]
    },
    {
      "cell_type": "markdown",
      "metadata": {
        "id": "jXlHizeijHTY"
      },
      "source": [
        "Create Matrix"
      ]
    },
    {
      "cell_type": "code",
      "metadata": {
        "id": "cevmGvN6jMHQ",
        "colab": {
          "base_uri": "https://localhost:8080/"
        },
        "outputId": "e7f933fd-4879-48eb-caef-39ee77873854"
      },
      "source": [
        "#Create a Matrix\n",
        "matrix =np.array([[10,20,30],[40,50,60]])\n",
        "print(matrix)"
      ],
      "execution_count": 5,
      "outputs": [
        {
          "output_type": "stream",
          "text": [
            "[[10 20 30]\n",
            " [40 50 60]]\n"
          ],
          "name": "stdout"
        }
      ]
    },
    {
      "cell_type": "markdown",
      "metadata": {
        "id": "szV_ebn8jjt1"
      },
      "source": [
        "Accessing Elements"
      ]
    },
    {
      "cell_type": "code",
      "metadata": {
        "id": "hbyIcs-gjsMn",
        "colab": {
          "base_uri": "https://localhost:8080/"
        },
        "outputId": "d0318b88-c4c9-42b3-a5ee-1dbd394884a9"
      },
      "source": [
        "#Create a vector as a Row\n",
        "row_vector = np.array([10,20,30,40,50,60])\n",
        "print(\"row_vector\",row_vector)\n",
        "\n",
        "#Create a Matrix\n",
        "matrix = np.array([[10,20,30],[40,50,60],[70,80,90]])\n",
        "\n",
        "#Select 2nd element of Vactor\n",
        "print(\"Matrix:\",row_vector[1])\n",
        "\n",
        "#Select "
      ],
      "execution_count": 6,
      "outputs": [
        {
          "output_type": "stream",
          "text": [
            "row_vector [10 20 30 40 50 60]\n",
            "Matrix: 20\n"
          ],
          "name": "stdout"
        }
      ]
    },
    {
      "cell_type": "markdown",
      "metadata": {
        "id": "nDwntyDdoWBN"
      },
      "source": [
        "Matrix"
      ]
    },
    {
      "cell_type": "code",
      "metadata": {
        "id": "iFsJ98CTjFXz",
        "colab": {
          "base_uri": "https://localhost:8080/"
        },
        "outputId": "8925e54b-2044-4bea-e104-e48833c834ab"
      },
      "source": [
        "#Create a Matrix\n",
        "matrix = np.array([[10,20,30],[40,50,60],[70,80,90]])\n",
        "\n",
        "#View the number of rows and Columns\n",
        "print(\"Rows and Column\",matrix.shape)\n",
        "\n",
        "#View the number of elements (rows*columns)\n",
        "print(\"Total Elements\",matrix.size)\n",
        "\n",
        "#View the number of Dimensions(2 in the case)\n",
        "print(\"Dimension\",matrix.ndim)"
      ],
      "execution_count": 7,
      "outputs": [
        {
          "output_type": "stream",
          "text": [
            "Rows and Column (3, 3)\n",
            "Total Elements 9\n",
            "Dimension 2\n"
          ],
          "name": "stdout"
        }
      ]
    },
    {
      "cell_type": "markdown",
      "metadata": {
        "id": "ATzETM-epcQQ"
      },
      "source": [
        "Min and Max"
      ]
    },
    {
      "cell_type": "code",
      "metadata": {
        "colab": {
          "base_uri": "https://localhost:8080/"
        },
        "id": "EPvjnJzn_w2W",
        "outputId": "a953d19f-8f53-4c7e-ab8b-46a2c8a2473e"
      },
      "source": [
        "#Create a Matrix\n",
        "matrix = np.array([[10,20,30],[40,50,60],[70,80,90]])\n",
        "\n",
        "#Return the max element\n",
        "print(np.max(matrix))\n",
        "\n",
        "#Return the min element\n",
        "print(np.min(matrix))\n",
        "\n",
        "#To find the max element in each column\n",
        "print(np.max(matrix,axis=0))\n",
        "\n",
        "#To find the max element in each row_vector\n",
        "print(np.max(matrix,axis=1))"
      ],
      "execution_count": 9,
      "outputs": [
        {
          "output_type": "stream",
          "text": [
            "90\n",
            "10\n",
            "[70 80 90]\n",
            "[30 60 90]\n"
          ],
          "name": "stdout"
        }
      ]
    },
    {
      "cell_type": "markdown",
      "metadata": {
        "id": "dOB5v4keBX0q"
      },
      "source": [
        ""
      ]
    },
    {
      "cell_type": "code",
      "metadata": {
        "id": "joq9I0twi0dN",
        "colab": {
          "base_uri": "https://localhost:8080/",
          "height": 162
        },
        "outputId": "4fa41e9a-edbf-4993-f454-36b037247472"
      },
      "source": [
        "p"
      ],
      "execution_count": 8,
      "outputs": [
        {
          "output_type": "error",
          "ename": "NameError",
          "evalue": "ignored",
          "traceback": [
            "\u001b[0;31m---------------------------------------------------------------------------\u001b[0m",
            "\u001b[0;31mNameError\u001b[0m                                 Traceback (most recent call last)",
            "\u001b[0;32m<ipython-input-8-6c10289a8da7>\u001b[0m in \u001b[0;36m<module>\u001b[0;34m()\u001b[0m\n\u001b[0;32m----> 1\u001b[0;31m \u001b[0mp\u001b[0m\u001b[0;34m\u001b[0m\u001b[0;34m\u001b[0m\u001b[0m\n\u001b[0m",
            "\u001b[0;31mNameError\u001b[0m: name 'p' is not defined"
          ]
        }
      ]
    }
  ]
}