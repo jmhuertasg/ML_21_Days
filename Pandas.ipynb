{
  "nbformat": 4,
  "nbformat_minor": 0,
  "metadata": {
    "colab": {
      "name": "PAndas.ipynb",
      "provenance": [],
      "authorship_tag": "ABX9TyNXpBanWJreZ5jYrVgb/YLM",
      "include_colab_link": true
    },
    "kernelspec": {
      "name": "python3",
      "display_name": "Python 3"
    },
    "language_info": {
      "name": "python"
    }
  },
  "cells": [
    {
      "cell_type": "markdown",
      "metadata": {
        "id": "view-in-github",
        "colab_type": "text"
      },
      "source": [
        "<a href=\"https://colab.research.google.com/github/jmhuertasg/ML_21_Days/blob/main/Pandas.ipynb\" target=\"_parent\"><img src=\"https://colab.research.google.com/assets/colab-badge.svg\" alt=\"Open In Colab\"/></a>"
      ]
    },
    {
      "cell_type": "markdown",
      "metadata": {
        "id": "2KZRc-aCMUrA"
      },
      "source": [
        "PAndasis generally used for Data Analytics. It allows importing data from various file format ex-json,csv,sql,excel,etc\n",
        "\n",
        "FEATURES:Data MAnipulation,Reading and Writing Da"
      ]
    },
    {
      "cell_type": "code",
      "metadata": {
        "id": "lwGJKm96MJ8Z"
      },
      "source": [
        ""
      ],
      "execution_count": null,
      "outputs": []
    }
  ]
}